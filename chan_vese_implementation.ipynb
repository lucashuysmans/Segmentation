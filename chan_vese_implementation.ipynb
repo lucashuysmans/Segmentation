{
 "metadata": {
  "language_info": {
   "codemirror_mode": {
    "name": "ipython",
    "version": 3
   },
   "file_extension": ".py",
   "mimetype": "text/x-python",
   "name": "python",
   "nbconvert_exporter": "python",
   "pygments_lexer": "ipython3",
   "version": "3.8.5-final"
  },
  "orig_nbformat": 2,
  "kernelspec": {
   "name": "python3",
   "display_name": "Python 3.8.5 64-bit ('base': conda)",
   "metadata": {
    "interpreter": {
     "hash": "c1f36f03c9fe9546c3fb1c79833dab1247c3d5b5e41ec2ea80776eac4bfb54ba"
    }
   }
  }
 },
 "nbformat": 4,
 "nbformat_minor": 2,
 "cells": [
  {
   "cell_type": "code",
   "execution_count": 7,
   "metadata": {},
   "outputs": [],
   "source": [
    "import numpy as np\n",
    "from PIL import Image\n",
    "from tqdm import tqdm\n",
    "\n",
    "def divergence(f):\n",
    "    \"\"\"\n",
    "    Computes the divergence of the vector field f, corresponding to dFx/dx + dFy/dy + ...\n",
    "    :param f: List of ndarrays, where every item of the list is one dimension of the vector field\n",
    "    :return: Single ndarray of the same shape as each of the items in f, which corresponds to a scalar field\n",
    "    \"\"\"\n",
    "    num_dims = len(f.shape)-1\n",
    "    return np.ufunc.reduce(np.add, [np.gradient(f[...,i], axis=i) for i in range(num_dims)])\n",
    "\n",
    "def step_dual_chan_vese(u,z,image_arr, c1, c2, lambd, step_u,step_z):\n",
    "    def clip_z(z):\n",
    "        \"\"\" \n",
    "        Helper functions to truncate z to have at most unit pointwise norm.\n",
    "        If z has norm ≤ 1, we do nothing, otherwise we replace it by z/norm(z)\n",
    "        \"\"\"\n",
    "        def criterion(v):\n",
    "            norm = np.linalg.norm(v)\n",
    "            if norm > 1:\n",
    "                return v/norm\n",
    "            else:\n",
    "                return v\n",
    "\n",
    "        return np.apply_along_axis(criterion, -1, z)\n",
    "        #return z / ((1 + np.maximum(0, np.apply_along_axis(np.linalg.norm, -1, z) - 1))[...,np.newaxis])\n",
    "\n",
    "    z_update = clip_z(z + step_z * np.stack(np.gradient(u), axis=-1))\n",
    "    tmp = lambd * ((image_arr - c1)**2 - (image_arr-c2)**2)\n",
    "    u_update = np.clip(u + step_u*(divergence(z_update) - tmp), 0 , 1)\n",
    "\n",
    "    return (u_update, z_update)\n",
    "\n",
    "#def energy(u,c1,c2, image_arr):\n",
    "#    TV_energy = np.sum(np.apply_along_axis(np.linalg.norm, -1))"
   ]
  },
  {
   "cell_type": "code",
   "execution_count": 8,
   "metadata": {},
   "outputs": [],
   "source": [
    "bitmap_array = np.array(Image.open(\"images/dirty.bmp\"), dtype=float)\n",
    "\n",
    "u = np.zeros(bitmap_array.shape, dtype=float)\n",
    "z = np.zeros(bitmap_array.shape+(len(u.shape),), dtype=float)\n",
    "c1 = 50\n",
    "c2 = 200"
   ]
  },
  {
   "cell_type": "code",
   "execution_count": 9,
   "metadata": {
    "tags": []
   },
   "outputs": [
    {
     "output_type": "stream",
     "name": "stderr",
     "text": [
      "100%|██████████| 1000/1000 [01:48<00:00,  9.19it/s]\n"
     ]
    }
   ],
   "source": [
    "for i in tqdm(range(1000)):\n",
    "    (u,z) = step_dual_chan_vese(u,z,bitmap_array, c1,c2, 0.0001, 0.2,0.4)"
   ]
  },
  {
   "cell_type": "code",
   "execution_count": 11,
   "metadata": {},
   "outputs": [],
   "source": [
    "x = np.array(255 * (1-u), dtype=np.uint8)\n",
    "Image.fromarray(x).show()\n",
    "Image.open(\"images/dirty.bmp\").show()"
   ]
  },
  {
   "cell_type": "code",
   "execution_count": 5,
   "metadata": {},
   "outputs": [
    {
     "output_type": "stream",
     "name": "stdout",
     "text": [
      "[[2.23606798 5.        ]\n [3.16227766 4.47213595]]\n[[[ 2.23606798  4.47213595]\n  [15.         20.        ]]\n\n [[ 3.16227766  9.48683298]\n  [ 8.94427191 17.88854382]]]\n"
     ]
    }
   ],
   "source": [
    "x = np.array(   [[[1,2],[3,4]], \n",
    "                 [[1,3],[2,4]]])\n",
    "y = np.apply_along_axis(np.linalg.norm, -1, x)\n",
    "print(y)\n",
    "print(x*y[...,np.newaxis])"
   ]
  },
  {
   "cell_type": "code",
   "execution_count": null,
   "metadata": {},
   "outputs": [],
   "source": []
  }
 ]
}