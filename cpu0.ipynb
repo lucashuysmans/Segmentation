{
 "cells": [
  {
   "cell_type": "code",
   "execution_count": 3,
   "id": "israeli-psychology",
   "metadata": {},
   "outputs": [
    {
     "name": "stdout",
     "output_type": "stream",
     "text": [
      "Sun Mar 28 23:27:37 2021       \n",
      "+-----------------------------------------------------------------------------+\n",
      "| NVIDIA-SMI 440.118.02   Driver Version: 440.118.02   CUDA Version: 10.2     |\n",
      "|-------------------------------+----------------------+----------------------+\n",
      "| GPU  Name        Persistence-M| Bus-Id        Disp.A | Volatile Uncorr. ECC |\n",
      "| Fan  Temp  Perf  Pwr:Usage/Cap|         Memory-Usage | GPU-Util  Compute M. |\n",
      "|===============================+======================+======================|\n",
      "|   0  Tesla P100-PCIE...  Off  | 00000000:86:00.0 Off |                    0 |\n",
      "| N/A   49C    P0    34W / 250W |  13150MiB / 16280MiB |      0%      Default |\n",
      "+-------------------------------+----------------------+----------------------+\n",
      "|   1  Tesla P100-PCIE...  Off  | 00000000:AF:00.0 Off |                    0 |\n",
      "| N/A   49C    P0    56W / 250W |  12307MiB / 16280MiB |    100%      Default |\n",
      "+-------------------------------+----------------------+----------------------+\n",
      "                                                                               \n",
      "+-----------------------------------------------------------------------------+\n",
      "| Processes:                                                       GPU Memory |\n",
      "|  GPU       PID   Type   Process name                             Usage      |\n",
      "|=============================================================================|\n",
      "|    0     17324      C   ...ments/pytorch-1.8.0-cuda10.2/bin/python 12303MiB |\n",
      "|    0     17341      C   ...ments/pytorch-1.8.0-cuda10.2/bin/python   837MiB |\n",
      "|    1     17341      C   ...ments/pytorch-1.8.0-cuda10.2/bin/python 12297MiB |\n",
      "+-----------------------------------------------------------------------------+\n",
      "             total       used       free     shared    buffers     cached\n",
      "Mem:        385627       7368     378259         77          2       2454\n",
      "-/+ buffers/cache:       4911     380715\n",
      "Swap:       196614         50     196564\n"
     ]
    }
   ],
   "source": [
    "%%bash\n",
    "nvidia-smi\n",
    "free -m"
   ]
  },
  {
   "cell_type": "code",
   "execution_count": null,
   "id": "three-glossary",
   "metadata": {},
   "outputs": [],
   "source": []
  }
 ],
 "metadata": {
  "kernelspec": {
   "display_name": "Python 3",
   "language": "python",
   "name": "python3"
  },
  "language_info": {
   "codemirror_mode": {
    "name": "ipython",
    "version": 3
   },
   "file_extension": ".py",
   "mimetype": "text/x-python",
   "name": "python",
   "nbconvert_exporter": "python",
   "pygments_lexer": "ipython3",
   "version": "3.8.8"
  }
 },
 "nbformat": 4,
 "nbformat_minor": 5
}
