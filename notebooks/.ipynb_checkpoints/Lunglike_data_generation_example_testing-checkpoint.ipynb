{
 "cells": [
  {
   "cell_type": "code",
   "execution_count": null,
   "metadata": {},
   "outputs": [],
   "source": [
    "\"using the datagen framework this willl make 100 images\"\n",
    "\n",
    "FILEPATH = \"./data\"\n",
    "\n",
    "from ClassFiles.GeneratedDataset import generate_data_lunglike as gen\n",
    "\n",
    "gen(100,FILEPATH)\n",
    "\n"
   ]
  },
  {
   "cell_type": "code",
   "execution_count": null,
   "metadata": {},
   "outputs": [],
   "source": [
    "\"this is prints out the pretty pictures peter made\"\n",
    "\n",
    "import os\n",
    "import ClassFiles.GeneratedDataset as dat\n",
    "import torch\n",
    "from torchvision import transforms\n",
    "from torch.utils.data import DataLoader\n",
    "import matplotlib.pyplot as plt\n",
    "import numpy as np\n",
    "\n",
    "dirty_image_dataset = dat.ImageDataset(FILEPATH)\n",
    "image_transform = transforms.Compose(\n",
    "    [transforms.ToTensor(), transforms.Grayscale(num_output_channels=1)]\n",
    ")\n",
    "\n",
    "dirty_image_dataloader = DataLoader(dirty_image_dataset, batch_size=1)\n",
    "dirty_image_iter = iter(dirty_image_dataloader)\n",
    "\n",
    "dirty_seg_dataset = dat.SegmentationDataset(FILEPATH, seg_type=\"chan-vese\")\n",
    "dirty_seg_dataloader = DataLoader(dirty_seg_dataset)\n",
    "dirty_seg_iter = iter(dirty_seg_dataloader)\n",
    "\n",
    "for im_tensor_batch, seg in zip(dirty_image_iter, dirty_seg_iter):\n",
    "    fig, axs = plt.subplots(1, 2, figsize=(5, 5))\n",
    "    u = seg.squeeze(0).numpy()\n",
    "\n",
    "    axs[0].imshow(im_tensor_batch[0][0], cmap=\"gray\")\n",
    "    axs[0].contour(np.clip(u, 0.4, 1), [0], colors=\"red\")\n",
    "    axs[1].hist(u.flatten())\n",
    "    plt.show()"
   ]
  },
  {
   "cell_type": "code",
   "execution_count": null,
   "metadata": {},
   "outputs": [],
   "source": [
    "\"this evaluates the Jaccard distance for all the cv images\"\n",
    "import os\n",
    "import ClassFiles.GeneratedDataset as dat\n",
    "import torch\n",
    "from torchvision import transforms\n",
    "from torch.utils.data import DataLoader\n",
    "import matplotlib.pyplot as plt\n",
    "import numpy as np\n",
    "\n",
    "dirty_image_dataset = dat.ImageDataset(FILEPATH)\n",
    "image_transform = transforms.Compose(\n",
    "    [transforms.ToTensor(), transforms.Grayscale(num_output_channels=1)]\n",
    ")\n",
    "\n",
    "dirty_image_dataloader = DataLoader(dirty_image_dataset, batch_size=1)\n",
    "dirty_image_iter = iter(dirty_image_dataloader)\n",
    "\n",
    "dirty_seg_dataset = dat.SegmentationDataset(FILEPATH, seg_type=\"chan-vese\")\n",
    "dirty_seg_dataloader = DataLoader(dirty_seg_dataset)\n",
    "dirty_seg_iter = iter(dirty_seg_dataloader)\n",
    "\n",
    "\n",
    "import EvaluationMetrics as EM\n",
    "\n",
    "metric = np.array([])\n",
    "\n",
    "for im_tensor_batch, seg in zip(dirty_image_iter, dirty_seg_iter):\n",
    "    u1 = seg.squeeze(0).numpy()\n",
    "    u2 = im_tensor_batch.squeeze(0).numpy()\n",
    "    u2 = np.squeeze(u2, axis=0)\n",
    "    u1 = np.reshape(u1,np.size(u1))\n",
    "    u2 = np.reshape(u2,np.size(u2))\n",
    "    metric = np.append(metric,EM.Jaccard(u1,u2,threshold=0.4))\n",
    "\n",
    "\n"
   ]
  },
  {
   "cell_type": "code",
   "execution_count": null,
   "metadata": {},
   "outputs": [],
   "source": [
    "\"this counts how many bad cv you have\"\n",
    "bad =0\n",
    "for i in range(len(metric)):\n",
    "    if metric[i]<0.5:\n",
    "        print(i)\n",
    "        bad +=1\n",
    "print(bad)"
   ]
  }
 ],
 "metadata": {
  "kernelspec": {
   "display_name": "Python 3",
   "language": "python",
   "name": "python3"
  },
  "language_info": {
   "codemirror_mode": {
    "name": "ipython",
    "version": 3
   },
   "file_extension": ".py",
   "mimetype": "text/x-python",
   "name": "python",
   "nbconvert_exporter": "python",
   "pygments_lexer": "ipython3",
   "version": "3.9.1"
  }
 },
 "nbformat": 4,
 "nbformat_minor": 4
}
